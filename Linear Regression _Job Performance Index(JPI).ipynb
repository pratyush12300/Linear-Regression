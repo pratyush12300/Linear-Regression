{
 "cells": [
  {
   "cell_type": "code",
   "execution_count": 1,
   "metadata": {},
   "outputs": [],
   "source": [
    "import pandas as pd\n",
    "import numpy as np\n"
   ]
  },
  {
   "cell_type": "code",
   "execution_count": 2,
   "metadata": {},
   "outputs": [
    {
     "data": {
      "text/html": [
       "<div>\n",
       "<style scoped>\n",
       "    .dataframe tbody tr th:only-of-type {\n",
       "        vertical-align: middle;\n",
       "    }\n",
       "\n",
       "    .dataframe tbody tr th {\n",
       "        vertical-align: top;\n",
       "    }\n",
       "\n",
       "    .dataframe thead th {\n",
       "        text-align: right;\n",
       "    }\n",
       "</style>\n",
       "<table border=\"1\" class=\"dataframe\">\n",
       "  <thead>\n",
       "    <tr style=\"text-align: right;\">\n",
       "      <th></th>\n",
       "      <th>empid</th>\n",
       "      <th>jpi</th>\n",
       "      <th>aptitude</th>\n",
       "      <th>tol</th>\n",
       "      <th>technical</th>\n",
       "      <th>general</th>\n",
       "    </tr>\n",
       "  </thead>\n",
       "  <tbody>\n",
       "    <tr>\n",
       "      <th>0</th>\n",
       "      <td>1</td>\n",
       "      <td>45.52</td>\n",
       "      <td>43.83</td>\n",
       "      <td>55.92</td>\n",
       "      <td>51.82</td>\n",
       "      <td>43.58</td>\n",
       "    </tr>\n",
       "    <tr>\n",
       "      <th>1</th>\n",
       "      <td>2</td>\n",
       "      <td>40.10</td>\n",
       "      <td>32.71</td>\n",
       "      <td>32.56</td>\n",
       "      <td>51.49</td>\n",
       "      <td>51.03</td>\n",
       "    </tr>\n",
       "    <tr>\n",
       "      <th>2</th>\n",
       "      <td>3</td>\n",
       "      <td>50.61</td>\n",
       "      <td>56.64</td>\n",
       "      <td>54.84</td>\n",
       "      <td>52.29</td>\n",
       "      <td>52.47</td>\n",
       "    </tr>\n",
       "    <tr>\n",
       "      <th>3</th>\n",
       "      <td>4</td>\n",
       "      <td>38.97</td>\n",
       "      <td>51.53</td>\n",
       "      <td>59.69</td>\n",
       "      <td>47.48</td>\n",
       "      <td>47.69</td>\n",
       "    </tr>\n",
       "    <tr>\n",
       "      <th>4</th>\n",
       "      <td>5</td>\n",
       "      <td>41.87</td>\n",
       "      <td>51.35</td>\n",
       "      <td>51.50</td>\n",
       "      <td>47.59</td>\n",
       "      <td>45.77</td>\n",
       "    </tr>\n",
       "  </tbody>\n",
       "</table>\n",
       "</div>"
      ],
      "text/plain": [
       "   empid    jpi  aptitude    tol  technical  general\n",
       "0      1  45.52     43.83  55.92      51.82    43.58\n",
       "1      2  40.10     32.71  32.56      51.49    51.03\n",
       "2      3  50.61     56.64  54.84      52.29    52.47\n",
       "3      4  38.97     51.53  59.69      47.48    47.69\n",
       "4      5  41.87     51.35  51.50      47.59    45.77"
      ]
     },
     "execution_count": 2,
     "metadata": {},
     "output_type": "execute_result"
    }
   ],
   "source": [
    "#importing the data\n",
    "data=pd.read_csv('Performance Index.csv')\n",
    "data.head()\n",
    "#empid -Employee ID\n",
    "#jpi -Job Profile Index\n",
    "#aptitude -Aptitude Score\n",
    "#tol\n",
    "#technical -Technical Aptitude\n",
    "#general -General Aptitude\n"
   ]
  },
  {
   "cell_type": "code",
   "execution_count": 30,
   "metadata": {},
   "outputs": [
    {
     "data": {
      "text/plain": [
       "False"
      ]
     },
     "execution_count": 30,
     "metadata": {},
     "output_type": "execute_result"
    }
   ],
   "source": [
    "#Check for missing values\n",
    "data.isnull().values.any()"
   ]
  },
  {
   "cell_type": "code",
   "execution_count": 31,
   "metadata": {},
   "outputs": [],
   "source": [
    "#set features and label\n",
    "features=data.iloc[:,[2,3,4,5]].values\n",
    "#we left out empid as it not relevant to our linear model naturally\n",
    "label=data.jpi.values"
   ]
  },
  {
   "cell_type": "code",
   "execution_count": 4,
   "metadata": {},
   "outputs": [
    {
     "data": {
      "text/plain": [
       "LinearRegression(copy_X=True, fit_intercept=True, n_jobs=None, normalize=False)"
      ]
     },
     "execution_count": 4,
     "metadata": {},
     "output_type": "execute_result"
    }
   ],
   "source": [
    "#Implement Linear Regression\n",
    "from sklearn.linear_model import LinearRegression\n",
    "modelS= LinearRegression()\n",
    "modelS.fit(features,label)"
   ]
  },
  {
   "cell_type": "code",
   "execution_count": 5,
   "metadata": {},
   "outputs": [
    {
     "data": {
      "text/plain": [
       "0.8767885708295509"
      ]
     },
     "execution_count": 5,
     "metadata": {},
     "output_type": "execute_result"
    }
   ],
   "source": [
    "#Check the Model (R2) Score\n",
    "modelS.score(features,label)"
   ]
  },
  {
   "cell_type": "code",
   "execution_count": 6,
   "metadata": {},
   "outputs": [
    {
     "data": {
      "text/plain": [
       "-54.28224697945714"
      ]
     },
     "execution_count": 6,
     "metadata": {},
     "output_type": "execute_result"
    }
   ],
   "source": [
    "#Intercept of the model equation\n",
    "modelS.intercept_"
   ]
  },
  {
   "cell_type": "code",
   "execution_count": 7,
   "metadata": {},
   "outputs": [
    {
     "data": {
      "text/plain": [
       "array([0.32356183, 0.03337241, 1.09546675, 0.53683395])"
      ]
     },
     "execution_count": 7,
     "metadata": {},
     "output_type": "execute_result"
    }
   ],
   "source": [
    "#Coeffecients of the model equation\n",
    "#You can check the results in the linear model on R to cross check the results\n",
    "#I have made another Linear Regression File in R in the same folder\n",
    "modelS.coef_"
   ]
  },
  {
   "cell_type": "code",
   "execution_count": 8,
   "metadata": {},
   "outputs": [
    {
     "name": "stdout",
     "output_type": "stream",
     "text": [
      "0.409322548968902\n",
      "0.01801057489801154\n",
      "Confidence Level : 98.19894251019885 %\n",
      "Alternate Hypothesis (H1) - Aptitude and JPI has linear relationship\n"
     ]
    }
   ],
   "source": [
    "#I could have done this step before implementing the model \n",
    "#But I wanted to check the resultant changes after removing 'not so important' features \n",
    "#but unfortunately all the features were significant in this dataset \n",
    "#Now we check the relationship of each independant variable with the dependant variable \n",
    "#Using Pearson's Correlation Coefficient \n",
    "#Aptitude\n",
    "from scipy.stats import pearsonr\n",
    "correlation,pvalue = pearsonr(data.aptitude , data.jpi)\n",
    "print(correlation)\n",
    "print(pvalue)\n",
    "print(\"Confidence Level : {} %\".format(((1- pvalue)*100)))\n",
    "if pvalue <= 0.05:\n",
    "    print(\"Alternate Hypothesis (H1) - Aptitude and JPI has linear relationship\")\n",
    "else:\n",
    "    print(\"Null Hypothesis (H0)- Aptitude and JPI has no linear relationship\")"
   ]
  },
  {
   "cell_type": "code",
   "execution_count": 11,
   "metadata": {},
   "outputs": [
    {
     "name": "stdout",
     "output_type": "stream",
     "text": [
      "0.4803521125368063\n",
      "0.004665312624540699\n",
      "Confidence Level : 99.53346873754593 %\n",
      "Alternate Hypothesis (H1) - TOL and JPI has linear relationship\n"
     ]
    }
   ],
   "source": [
    "#Now we check the relationship of each independant variable with the dependant variable \n",
    "#Using Pearson's Correlation Coefficient \n",
    "#TOL\n",
    "from scipy.stats import pearsonr\n",
    "correlation,pvalue = pearsonr(data.tol , data.jpi)\n",
    "print(correlation)\n",
    "print(pvalue)\n",
    "print(\"Confidence Level : {} %\".format(((1- pvalue)*100)))\n",
    "if pvalue <= 0.05:\n",
    "    print(\"Alternate Hypothesis (H1) - TOL and JPI has linear relationship\")\n",
    "else:\n",
    "    print(\"Null Hypothesis (H0)- TOL and JPI has no linear relationship\")"
   ]
  },
  {
   "cell_type": "code",
   "execution_count": 10,
   "metadata": {},
   "outputs": [
    {
     "name": "stdout",
     "output_type": "stream",
     "text": [
      "0.8077481453251263\n",
      "1.3315243526897045e-08\n",
      "Confidence Level : 99.99999866847564 %\n",
      "Alternate Hypothesis (H1) - Technical and JPI has linear relationship\n"
     ]
    }
   ],
   "source": [
    "#Now we check the relationship of each independant variable with the dependant variable \n",
    "#Using Pearson's Correlation Coefficient \n",
    "#Technical\n",
    "from scipy.stats import pearsonr\n",
    "correlation,pvalue = pearsonr(data.technical , data.jpi)\n",
    "print(correlation)\n",
    "print(pvalue)\n",
    "print(\"Confidence Level : {} %\".format(((1- pvalue)*100)))\n",
    "if pvalue <= 0.05:\n",
    "    print(\"Alternate Hypothesis (H1) - Technical and JPI has linear relationship\")\n",
    "else:\n",
    "    print(\"Null Hypothesis (H0)- Technical and JPI has no linear relationship\")\n",
    "#Technical and JPI have a strong positive correlation "
   ]
  },
  {
   "cell_type": "code",
   "execution_count": 12,
   "metadata": {},
   "outputs": [
    {
     "name": "stdout",
     "output_type": "stream",
     "text": [
      "0.7900898894674637\n",
      "4.555631088120382e-08\n",
      "Confidence Level : 99.99999544436892 %\n",
      "Alternate Hypothesis (H1) - Technical and JPI has linear relationship\n"
     ]
    }
   ],
   "source": [
    "#Now we check the relationship of each independant variable with the dependant variable \n",
    "#Using Pearson's Correlation Coefficient \n",
    "#General\n",
    "from scipy.stats import pearsonr\n",
    "correlation,pvalue = pearsonr(data.general , data.jpi)\n",
    "print(correlation)\n",
    "print(pvalue)\n",
    "print(\"Confidence Level : {} %\".format(((1- pvalue)*100)))\n",
    "if pvalue <= 0.05:\n",
    "    print(\"Alternate Hypothesis (H1) - General and JPI has linear relationship\")\n",
    "else:\n",
    "    print(\"Null Hypothesis (H0)- General and JPI has no linear relationship\")\n"
   ]
  },
  {
   "cell_type": "code",
   "execution_count": 13,
   "metadata": {},
   "outputs": [
    {
     "data": {
      "text/html": [
       "<div>\n",
       "<style scoped>\n",
       "    .dataframe tbody tr th:only-of-type {\n",
       "        vertical-align: middle;\n",
       "    }\n",
       "\n",
       "    .dataframe tbody tr th {\n",
       "        vertical-align: top;\n",
       "    }\n",
       "\n",
       "    .dataframe thead th {\n",
       "        text-align: right;\n",
       "    }\n",
       "</style>\n",
       "<table border=\"1\" class=\"dataframe\">\n",
       "  <thead>\n",
       "    <tr style=\"text-align: right;\">\n",
       "      <th></th>\n",
       "      <th>empid</th>\n",
       "      <th>jpi</th>\n",
       "      <th>aptitude</th>\n",
       "      <th>tol</th>\n",
       "      <th>technical</th>\n",
       "      <th>general</th>\n",
       "    </tr>\n",
       "  </thead>\n",
       "  <tbody>\n",
       "    <tr>\n",
       "      <th>count</th>\n",
       "      <td>33.00000</td>\n",
       "      <td>33.000000</td>\n",
       "      <td>33.000000</td>\n",
       "      <td>33.000000</td>\n",
       "      <td>33.00000</td>\n",
       "      <td>33.000000</td>\n",
       "    </tr>\n",
       "    <tr>\n",
       "      <th>mean</th>\n",
       "      <td>17.00000</td>\n",
       "      <td>47.865758</td>\n",
       "      <td>52.660606</td>\n",
       "      <td>53.990606</td>\n",
       "      <td>52.01697</td>\n",
       "      <td>49.036364</td>\n",
       "    </tr>\n",
       "    <tr>\n",
       "      <th>std</th>\n",
       "      <td>9.66954</td>\n",
       "      <td>9.458342</td>\n",
       "      <td>10.054991</td>\n",
       "      <td>10.149654</td>\n",
       "      <td>4.98145</td>\n",
       "      <td>5.636432</td>\n",
       "    </tr>\n",
       "    <tr>\n",
       "      <th>min</th>\n",
       "      <td>1.00000</td>\n",
       "      <td>31.640000</td>\n",
       "      <td>32.710000</td>\n",
       "      <td>32.560000</td>\n",
       "      <td>41.25000</td>\n",
       "      <td>37.000000</td>\n",
       "    </tr>\n",
       "    <tr>\n",
       "      <th>25%</th>\n",
       "      <td>9.00000</td>\n",
       "      <td>41.190000</td>\n",
       "      <td>45.590000</td>\n",
       "      <td>44.890000</td>\n",
       "      <td>48.34000</td>\n",
       "      <td>45.070000</td>\n",
       "    </tr>\n",
       "    <tr>\n",
       "      <th>50%</th>\n",
       "      <td>17.00000</td>\n",
       "      <td>49.450000</td>\n",
       "      <td>53.380000</td>\n",
       "      <td>57.040000</td>\n",
       "      <td>51.64000</td>\n",
       "      <td>50.530000</td>\n",
       "    </tr>\n",
       "    <tr>\n",
       "      <th>75%</th>\n",
       "      <td>25.00000</td>\n",
       "      <td>53.920000</td>\n",
       "      <td>56.750000</td>\n",
       "      <td>61.280000</td>\n",
       "      <td>54.68000</td>\n",
       "      <td>53.500000</td>\n",
       "    </tr>\n",
       "    <tr>\n",
       "      <th>max</th>\n",
       "      <td>33.00000</td>\n",
       "      <td>66.390000</td>\n",
       "      <td>75.030000</td>\n",
       "      <td>68.530000</td>\n",
       "      <td>67.27000</td>\n",
       "      <td>58.900000</td>\n",
       "    </tr>\n",
       "  </tbody>\n",
       "</table>\n",
       "</div>"
      ],
      "text/plain": [
       "          empid        jpi   aptitude        tol  technical    general\n",
       "count  33.00000  33.000000  33.000000  33.000000   33.00000  33.000000\n",
       "mean   17.00000  47.865758  52.660606  53.990606   52.01697  49.036364\n",
       "std     9.66954   9.458342  10.054991  10.149654    4.98145   5.636432\n",
       "min     1.00000  31.640000  32.710000  32.560000   41.25000  37.000000\n",
       "25%     9.00000  41.190000  45.590000  44.890000   48.34000  45.070000\n",
       "50%    17.00000  49.450000  53.380000  57.040000   51.64000  50.530000\n",
       "75%    25.00000  53.920000  56.750000  61.280000   54.68000  53.500000\n",
       "max    33.00000  66.390000  75.030000  68.530000   67.27000  58.900000"
      ]
     },
     "execution_count": 13,
     "metadata": {},
     "output_type": "execute_result"
    }
   ],
   "source": [
    "data.describe()"
   ]
  },
  {
   "cell_type": "code",
   "execution_count": 26,
   "metadata": {},
   "outputs": [
    {
     "name": "stdout",
     "output_type": "stream",
     "text": [
      "Enter Aptitude Score :52.66\n",
      "Enter TOL Score :54\n",
      "Enter Technical Score :52\n",
      "Enter General Score :49\n",
      "Job Profile Index(JPI) of the employee is [47.827764]\n"
     ]
    }
   ],
   "source": [
    "#Since all the features have a linear relationship with the label ,We can't remove any of them from our model \n",
    "#We use the model for Predictions\n",
    "#We have the min max values of different features(please consider the features taken in our model only)\n",
    "aptitude=float(input(\"Enter Aptitude Score :\"))\n",
    "tol=float(input(\"Enter TOL Score :\"))\n",
    "technical=float(input(\"Enter Technical Score :\"))\n",
    "general=float(input(\"Enter General Score :\"))\n",
    "jpi=modelS.predict(np.array([[aptitude,tol,technical,general]]))\n",
    "print( \"Job Profile Index(JPI) of the employee is {}\".format(jpi))\n"
   ]
  }
 ],
 "metadata": {
  "kernelspec": {
   "display_name": "Python 3",
   "language": "python",
   "name": "python3"
  },
  "language_info": {
   "codemirror_mode": {
    "name": "ipython",
    "version": 3
   },
   "file_extension": ".py",
   "mimetype": "text/x-python",
   "name": "python",
   "nbconvert_exporter": "python",
   "pygments_lexer": "ipython3",
   "version": "3.7.3"
  }
 },
 "nbformat": 4,
 "nbformat_minor": 2
}
